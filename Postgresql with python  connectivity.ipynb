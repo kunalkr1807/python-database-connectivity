{
 "cells": [
  {
   "cell_type": "code",
   "execution_count": 16,
   "id": "c48f58dc",
   "metadata": {},
   "outputs": [],
   "source": [
    "import pandas as ps \n",
    "import psycopg2 as pg"
   ]
  },
  {
   "cell_type": "code",
   "execution_count": 17,
   "id": "ea4bb336",
   "metadata": {},
   "outputs": [],
   "source": [
    "conn = pg.connect(\n",
    "    database=\"python_db\",\n",
    "    user=\"postgres\",\n",
    "    password=\"log\",\n",
    "    host=\"localhost\",\n",
    "    port=\"5433\"   )\n"
   ]
  },
  {
   "cell_type": "code",
   "execution_count": 18,
   "id": "5108d653",
   "metadata": {},
   "outputs": [],
   "source": [
    "cursor = conn.cursor()"
   ]
  },
  {
   "cell_type": "code",
   "execution_count": 27,
   "id": "043069d1",
   "metadata": {},
   "outputs": [],
   "source": [
    "cursor.execute(\"SELECT * FROM src\")"
   ]
  },
  {
   "cell_type": "code",
   "execution_count": 28,
   "id": "b2c1aaa2",
   "metadata": {},
   "outputs": [],
   "source": [
    "data = cursor.fetchall()"
   ]
  },
  {
   "cell_type": "code",
   "execution_count": 29,
   "id": "e5e6aef0",
   "metadata": {},
   "outputs": [
    {
     "data": {
      "text/plain": [
       "[(1, 'b'), (2, 'c'), (3, 'c')]"
      ]
     },
     "execution_count": 29,
     "metadata": {},
     "output_type": "execute_result"
    }
   ],
   "source": [
    "data"
   ]
  },
  {
   "cell_type": "code",
   "execution_count": 14,
   "id": "03da5884",
   "metadata": {},
   "outputs": [],
   "source": [
    "cursor.execute('create table src(ord int,alpha varchar(10))')"
   ]
  },
  {
   "cell_type": "code",
   "execution_count": 117,
   "id": "19987141",
   "metadata": {},
   "outputs": [],
   "source": [
    "cursor.execute(\"DROP TABLE src\")"
   ]
  },
  {
   "cell_type": "code",
   "execution_count": 23,
   "id": "873e89e9",
   "metadata": {},
   "outputs": [],
   "source": [
    "conn.commit()"
   ]
  },
  {
   "cell_type": "code",
   "execution_count": 19,
   "id": "f0aa155b",
   "metadata": {
    "scrolled": true
   },
   "outputs": [],
   "source": [
    "cursor.execute(\"INSERT INTO src VALUES(1,'b')\")"
   ]
  },
  {
   "cell_type": "code",
   "execution_count": 20,
   "id": "cc710ea7",
   "metadata": {},
   "outputs": [],
   "source": [
    "cursor.execute(\"INSERT INTO src VALUES(2,'c')\")"
   ]
  },
  {
   "cell_type": "code",
   "execution_count": 21,
   "id": "33f19425",
   "metadata": {},
   "outputs": [],
   "source": [
    "cursor.execute(\"INSERT INTO src VALUES(3,'c')\")"
   ]
  },
  {
   "cell_type": "code",
   "execution_count": 22,
   "id": "57f753e6",
   "metadata": {},
   "outputs": [],
   "source": [
    "cursor.execute(\"INSERT INTO src VALUES(4,'d')\")"
   ]
  },
  {
   "cell_type": "code",
   "execution_count": 32,
   "id": "85142369",
   "metadata": {},
   "outputs": [],
   "source": [
    "cursor.close()"
   ]
  },
  {
   "cell_type": "code",
   "execution_count": null,
   "id": "474b9fb7",
   "metadata": {},
   "outputs": [],
   "source": []
  },
  {
   "cell_type": "code",
   "execution_count": null,
   "id": "4c4f3c6e",
   "metadata": {},
   "outputs": [],
   "source": []
  },
  {
   "cell_type": "code",
   "execution_count": null,
   "id": "717b7a49",
   "metadata": {},
   "outputs": [],
   "source": []
  }
 ],
 "metadata": {
  "kernelspec": {
   "display_name": "Python 3 (ipykernel)",
   "language": "python",
   "name": "python3"
  },
  "language_info": {
   "codemirror_mode": {
    "name": "ipython",
    "version": 3
   },
   "file_extension": ".py",
   "mimetype": "text/x-python",
   "name": "python",
   "nbconvert_exporter": "python",
   "pygments_lexer": "ipython3",
   "version": "3.9.12"
  }
 },
 "nbformat": 4,
 "nbformat_minor": 5
}
